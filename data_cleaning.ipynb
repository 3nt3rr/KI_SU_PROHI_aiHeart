{
 "cells": [
  {
   "cell_type": "code",
   "execution_count": 1,
   "id": "d98ad80e-a6bf-45da-9e57-9170d74a2ba6",
   "metadata": {},
   "outputs": [],
   "source": [
    "import pandas as pd\n",
    "import glob\n",
    "import csv\n",
    "import os\n",
    "import sys\n",
    "from contextlib import contextmanager"
   ]
  },
  {
   "cell_type": "code",
   "execution_count": 2,
   "id": "76098049-1b35-4ff7-99c1-e7a3d2f1266e",
   "metadata": {},
   "outputs": [
    {
     "name": "stdout",
     "output_type": "stream",
     "text": [
      "C:\\Users\\matti\\MAIniacs\n"
     ]
    }
   ],
   "source": [
    "script_path = os.getcwd()\n",
    "file_path = r\".\\Data\"\n",
    "extension = \"csv\"\n",
    "\n",
    "print(os.getcwd())"
   ]
  },
  {
   "cell_type": "code",
   "execution_count": 3,
   "id": "3b0c2df7-b2b6-4c74-8fdb-bfec6fa6c678",
   "metadata": {},
   "outputs": [],
   "source": [
    "# Setting up a context manager in order to change to the data folder, create a dictionary of dataframes from all the csv files in the folder\n",
    "# and then returning to the original folder.\n",
    "\n",
    "@contextmanager\n",
    "def gen_list(file_path, extension):\n",
    "    f = os.chdir(file_path)\n",
    "    yield f\n",
    "    os.chdir(script_path)\n",
    "    \n",
    "with gen_list(file_path, extension) as f:\n",
    "    csv_list = glob.glob(r\"*{}\".format(extension))\n",
    "    dataframe_names = []\n",
    "    df_dict = {}\n",
    "    iterator = 0\n",
    "    for i in csv_list:\n",
    "        dataframe_names.append(i[:-4].replace(\".\", \"_\")) # Saves the names of the csv files minus .csv and also changes the periods in the name to underscores.\n",
    "    for j in dataframe_names:\n",
    "        df_dict[j] = pd.read_csv(csv_list[iterator], sep=None, engine=\"python\") # Key is the name of the csv file formatted as above.\n",
    "        iterator += 1"
   ]
  },
  {
   "cell_type": "code",
   "execution_count": 4,
   "id": "450be428-d6fd-452b-82a7-6fcec11c4c56",
   "metadata": {},
   "outputs": [
    {
     "name": "stdout",
     "output_type": "stream",
     "text": [
      "age         False\n",
      "sex         False\n",
      "cp          False\n",
      "trestbps    False\n",
      "chol        False\n",
      "fbs         False\n",
      "restecg     False\n",
      "thalach     False\n",
      "exang       False\n",
      "oldpeak     False\n",
      "slope       False\n",
      "ca          False\n",
      "thal        False\n",
      "num         False\n",
      "dtype: bool\n",
      "age         False\n",
      "sex         False\n",
      "cp          False\n",
      "trestbps    False\n",
      "chol        False\n",
      "fbs         False\n",
      "restecg     False\n",
      "thalach     False\n",
      "exang       False\n",
      "oldpeak     False\n",
      "slope       False\n",
      "ca          False\n",
      "thal        False\n",
      "class       False\n",
      "dtype: bool\n",
      "age         False\n",
      "sex         False\n",
      "cp          False\n",
      "trestbps    False\n",
      "chol        False\n",
      "fbs         False\n",
      "restecg     False\n",
      "thalach     False\n",
      "exang       False\n",
      "oldpeak     False\n",
      "slope       False\n",
      "ca          False\n",
      "thal        False\n",
      "class       False\n",
      "dtype: bool\n",
      "age         False\n",
      "sex         False\n",
      "cp          False\n",
      "trestbps    False\n",
      "chol        False\n",
      "fbs         False\n",
      "restecg     False\n",
      "thalach     False\n",
      "exang       False\n",
      "oldpeak     False\n",
      "slope       False\n",
      "ca          False\n",
      "thal        False\n",
      "class       False\n",
      "dtype: bool\n"
     ]
    }
   ],
   "source": [
    "# Imputing nulls instead of \"?\" for all dataframes in the dictionary.\n",
    "# TODO: print name of the dataframe before isnull list.\n",
    "for name in df_dict:\n",
    "    print(df_dict[name].isnull().any())\n",
    "\n",
    "for name in df_dict:\n",
    "    df_dict[name].replace(to_replace=\"?\", value=None, inplace=True)"
   ]
  },
  {
   "cell_type": "code",
   "execution_count": 5,
   "id": "07a0ddcf-45e3-4f9c-a872-e94101a583fd",
   "metadata": {},
   "outputs": [
    {
     "name": "stdout",
     "output_type": "stream",
     "text": [
      "age         False\n",
      "sex         False\n",
      "cp          False\n",
      "trestbps    False\n",
      "chol        False\n",
      "fbs         False\n",
      "restecg     False\n",
      "thalach     False\n",
      "exang       False\n",
      "oldpeak     False\n",
      "slope       False\n",
      "ca           True\n",
      "thal         True\n",
      "num         False\n",
      "dtype: bool\n",
      "age         False\n",
      "sex         False\n",
      "cp          False\n",
      "trestbps     True\n",
      "chol         True\n",
      "fbs          True\n",
      "restecg      True\n",
      "thalach      True\n",
      "exang        True\n",
      "oldpeak     False\n",
      "slope        True\n",
      "ca           True\n",
      "thal         True\n",
      "class       False\n",
      "dtype: bool\n",
      "age         False\n",
      "sex         False\n",
      "cp          False\n",
      "trestbps     True\n",
      "chol        False\n",
      "fbs          True\n",
      "restecg      True\n",
      "thalach      True\n",
      "exang        True\n",
      "oldpeak      True\n",
      "slope        True\n",
      "ca           True\n",
      "thal         True\n",
      "class       False\n",
      "dtype: bool\n",
      "age         False\n",
      "sex         False\n",
      "cp          False\n",
      "trestbps     True\n",
      "chol         True\n",
      "fbs          True\n",
      "restecg     False\n",
      "thalach      True\n",
      "exang        True\n",
      "oldpeak      True\n",
      "slope        True\n",
      "ca           True\n",
      "thal         True\n",
      "class       False\n",
      "dtype: bool\n"
     ]
    }
   ],
   "source": [
    "for name in df_dict:\n",
    "    print(df_dict[name].isnull().any())"
   ]
  },
  {
   "cell_type": "code",
   "execution_count": 6,
   "id": "b6fef2b0-f507-4f8a-938b-68af4e6a44ab",
   "metadata": {},
   "outputs": [
    {
     "ename": "SystemExit",
     "evalue": "",
     "output_type": "error",
     "traceback": [
      "An exception has occurred, use %tb to see the full traceback.\n",
      "\u001b[1;31mSystemExit\u001b[0m\n"
     ]
    },
    {
     "name": "stderr",
     "output_type": "stream",
     "text": [
      "C:\\Python310\\lib\\site-packages\\IPython\\core\\interactiveshell.py:3369: UserWarning: To exit: use 'exit', 'quit', or Ctrl-D.\n",
      "  warn(\"To exit: use 'exit', 'quit', or Ctrl-D.\", stacklevel=1)\n"
     ]
    }
   ],
   "source": [
    "sys.exit()"
   ]
  }
 ],
 "metadata": {
  "kernelspec": {
   "display_name": "Python 3 (ipykernel)",
   "language": "python",
   "name": "python3"
  },
  "language_info": {
   "codemirror_mode": {
    "name": "ipython",
    "version": 3
   },
   "file_extension": ".py",
   "mimetype": "text/x-python",
   "name": "python",
   "nbconvert_exporter": "python",
   "pygments_lexer": "ipython3",
   "version": "3.10.0"
  }
 },
 "nbformat": 4,
 "nbformat_minor": 5
}
